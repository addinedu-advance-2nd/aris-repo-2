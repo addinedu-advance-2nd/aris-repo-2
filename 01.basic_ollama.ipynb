{
 "cells": [
  {
   "cell_type": "code",
   "execution_count": 1,
   "metadata": {},
   "outputs": [],
   "source": [
    "from langchain_community.chat_models import ChatOllama"
   ]
  },
  {
   "cell_type": "code",
   "execution_count": 4,
   "metadata": {},
   "outputs": [],
   "source": [
    "llm = ChatOllama(model=\"llama3.2\", temperature=0.1)"
   ]
  },
  {
   "cell_type": "code",
   "execution_count": 5,
   "metadata": {},
   "outputs": [
    {
     "name": "stdout",
     "output_type": "stream",
     "text": [
      "[답변]: content='대한민국의 수도는 서울입니다.' additional_kwargs={} response_metadata={'model': 'llama3.2', 'created_at': '2024-11-06T02:19:59.632855947Z', 'message': {'role': 'assistant', 'content': ''}, 'done_reason': 'stop', 'done': True, 'total_duration': 3514099130, 'load_duration': 3372683536, 'prompt_eval_count': 34, 'prompt_eval_duration': 43359000, 'eval_count': 9, 'eval_duration': 96777000} id='run-61b10769-3265-4df3-b5d1-54e1992027d8-0'\n"
     ]
    }
   ],
   "source": [
    "# 질의내용\n",
    "question = \"대한민국의 수도는 어디인가요?\"\n",
    "\n",
    "# 질의\n",
    "print(f\"[답변]: {llm.invoke(question)}\")"
   ]
  },
  {
   "cell_type": "code",
   "execution_count": 6,
   "metadata": {},
   "outputs": [
    {
     "data": {
      "text/plain": [
       "AIMessage(content='대한민국의 수도는 서울입니다.', additional_kwargs={}, response_metadata={'model': 'llama3.2', 'created_at': '2024-11-06T02:20:05.122959999Z', 'message': {'role': 'assistant', 'content': ''}, 'done_reason': 'stop', 'done': True, 'total_duration': 165723377, 'load_duration': 19806392, 'prompt_eval_count': 34, 'prompt_eval_duration': 12495000, 'eval_count': 9, 'eval_duration': 91623000}, id='run-49d68123-0f2a-4afa-89d7-f3175947269a-0')"
      ]
     },
     "execution_count": 6,
     "metadata": {},
     "output_type": "execute_result"
    }
   ],
   "source": [
    "# 질의내용\n",
    "question = \"대한민국의 수도는 어디인가요?\"\n",
    "\n",
    "# 질의\n",
    "response = llm.invoke(question)\n",
    "\n",
    "response"
   ]
  },
  {
   "cell_type": "code",
   "execution_count": 13,
   "metadata": {},
   "outputs": [
    {
     "name": "stdout",
     "output_type": "stream",
     "text": [
      "대한민국에는 아름다운 관광지가 많이 있습니다. 아래는 추천하는 10곳과 그 주소입니다.\n",
      "\n",
      "1. **경복궁**\n",
      "   - 주소: 서울특별시 종로구 사직로 161\n",
      "\n",
      "2. **제주도**\n",
      "   - 주소: 제주특별자치도 제주시\n",
      "\n",
      "3. **부산 해운대 해수욕장**\n",
      "   - 주소: 부산광역시 해운대구 해운대해변로 264\n",
      "\n",
      "4. **경주 불국사**\n",
      "   - 주소: 경상북도 경주시 불국로 385\n",
      "\n",
      "5. **남이섬**\n",
      "   - 주소: 강원도 춘천시 남이섬길 1\n",
      "\n",
      "6. **전주 한옥마을**\n",
      "   - 주소: 전라북도 전주시 완산구 기린대로 99\n",
      "\n",
      "7. **설악산 국립공원**\n",
      "   - 주소: 강원도 속초시 설악산로 173\n",
      "\n",
      "8. **안동 하회마을**\n",
      "   - 주소: 경상북도 안동시 풍천면 하회리\n",
      "\n",
      "9. **서울 남산타워 (N서울타워)**\n",
      "   - 주소: 서울특별시 용산구 남산공원길 105\n",
      "\n",
      "10. **광주 무등산 국립공원**\n",
      "    - 주소: 광주광역시 동구 무등로 100\n",
      "\n",
      "각 관광지는 독특한 매력을 가지고 있으며, 방문 시 다양한 문화와 자연을 경험할 수 있습니다."
     ]
    }
   ],
   "source": [
    "answer = llm.stream(\"대한민국의 아름다운 관광지 10곳과 주소를 알려주세요!\")\n",
    "for token in answer:\n",
    "    print(token.content, end=\"\", flush=True)"
   ]
  },
  {
   "cell_type": "code",
   "execution_count": 14,
   "metadata": {},
   "outputs": [],
   "source": [
    "from langchain.prompts import PromptTemplate\n",
    "from langchain.schema.output_parser import StrOutputParser"
   ]
  },
  {
   "cell_type": "code",
   "execution_count": 18,
   "metadata": {},
   "outputs": [],
   "source": [
    "template = \"\"\"\n",
    "    당신은 아이스크림 가게의 주문 접수원입니다. \n",
    "    고객의 주문을 받으세요. \n",
    "    받은 주문을 짧고 간결하게 확인하는 문장을 제공하세요. \n",
    "    \n",
    "    아이스크림 관련 주문이 아닌경우, \"저는 아이스크림 가게 주문 접수원입니다. 아이스크림 주문 관련 질문을 부탁드립니다.\" 로 대답해줘.\n",
    "    \n",
    "    다음은 주문과 답변 예시야.\n",
    "    \n",
    "    주문)\n",
    "    \"딸기 아이스크림 3개와 초코 아이스크림 2개.... 아니야 6개 줘! 음 그리고 또 뭐 더 살까? 너네들 뭐 먹을래? 바닐라 아이스크림도 한개? 오케이 바닐라 아이스크림 1개 더 줘.\" \n",
    "    \n",
    "    답변)\n",
    "    \"딸기 아이스크림: 3개, 초코 아이스크림: 6개, 바닐라 아이스크림 1개\"\n",
    "    \n",
    "    \n",
    "    위 규칙을 통해 아래 #주문에 대해 답변해줘.\n",
    "    \n",
    "\n",
    "    #주문:\n",
    "    {question}\n",
    "\n",
    "    #답변:\n",
    "    \"\"\""
   ]
  },
  {
   "cell_type": "code",
   "execution_count": 19,
   "metadata": {},
   "outputs": [],
   "source": [
    "prompt = PromptTemplate.from_template(template)"
   ]
  },
  {
   "cell_type": "code",
   "execution_count": 20,
   "metadata": {},
   "outputs": [],
   "source": [
    "rag_chain = prompt | llm | StrOutputParser()\n"
   ]
  },
  {
   "cell_type": "code",
   "execution_count": 21,
   "metadata": {},
   "outputs": [],
   "source": [
    "question =  \"딸기 아이스크림 3개와 초코 아이스크림 2개.... 아니야 6개 줘! 음 그리고 또 뭐 더 살까? 너네들 뭐 먹을래? 바닐라 아이스크림도 한개? 오케이 바닐라 아이스크림 1개 더 줘.\" "
   ]
  },
  {
   "cell_type": "code",
   "execution_count": 22,
   "metadata": {},
   "outputs": [],
   "source": [
    "response = rag_chain.invoke({\"question\": question})"
   ]
  },
  {
   "cell_type": "code",
   "execution_count": 23,
   "metadata": {},
   "outputs": [
    {
     "data": {
      "text/plain": [
       "'\"딸기 아이스크림: 3개, 초코 아이스크림: 6개, 바닐라 아이스크림: 1개\"'"
      ]
     },
     "execution_count": 23,
     "metadata": {},
     "output_type": "execute_result"
    }
   ],
   "source": [
    "response"
   ]
  },
  {
   "cell_type": "code",
   "execution_count": 24,
   "metadata": {},
   "outputs": [],
   "source": [
    "question =  \"딸기 아이스크림 13개와 초코 아이스크림 2개.... 바닐라 아이스크림도 한개? 아니다 7개 줘.\" "
   ]
  },
  {
   "cell_type": "code",
   "execution_count": 25,
   "metadata": {},
   "outputs": [],
   "source": [
    "response = rag_chain.invoke({\"question\": question})"
   ]
  },
  {
   "cell_type": "code",
   "execution_count": 26,
   "metadata": {},
   "outputs": [
    {
     "data": {
      "text/plain": [
       "'\"딸기 아이스크림: 13개, 초코 아이스크림: 2개, 바닐라 아이스크림: 7개\"'"
      ]
     },
     "execution_count": 26,
     "metadata": {},
     "output_type": "execute_result"
    }
   ],
   "source": [
    "response"
   ]
  },
  {
   "cell_type": "code",
   "execution_count": null,
   "metadata": {},
   "outputs": [],
   "source": []
  }
 ],
 "metadata": {
  "kernelspec": {
   "display_name": "langchain",
   "language": "python",
   "name": "python3"
  },
  "language_info": {
   "codemirror_mode": {
    "name": "ipython",
    "version": 3
   },
   "file_extension": ".py",
   "mimetype": "text/x-python",
   "name": "python",
   "nbconvert_exporter": "python",
   "pygments_lexer": "ipython3",
   "version": "3.13.0"
  }
 },
 "nbformat": 4,
 "nbformat_minor": 2
}
